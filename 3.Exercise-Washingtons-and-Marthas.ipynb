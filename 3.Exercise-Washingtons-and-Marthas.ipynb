{
 "cells": [
  {
   "cell_type": "markdown",
   "metadata": {
    "application/vnd.databricks.v1+cell": {
     "cellMetadata": {},
     "inputWidgets": {},
     "nuid": "c64dbc3d-adc5-4007-9807-9c75b86e76b8",
     "showTitle": false,
     "title": ""
    }
   },
   "source": [
    "# Lab Exercise:\n",
    "## Washingtons and Marthas"
   ]
  },
  {
   "cell_type": "markdown",
   "metadata": {
    "application/vnd.databricks.v1+cell": {
     "cellMetadata": {},
     "inputWidgets": {},
     "nuid": "f1880525-22c7-48ea-9f4a-00be1bef23cf",
     "showTitle": false,
     "title": ""
    }
   },
   "source": [
    "##![Spark Logo Tiny](https://files.training.databricks.com/images/wiki-book/general/logo_spark_tiny.png) Instructions\n",
    "\n",
    "This data was captured in the August before the 2016 US presidential election.\n",
    "\n",
    "As a result, articles about the candidates were very popular.\n",
    "\n",
    "For this exercise, you will...\n",
    "0. Filter the result to the **en** Wikipedia project.\n",
    "0. Find all the articles where the name of the article **ends** with **_Washington** (presumably \"George Washington\", \"Martha Washington\", etc)\n",
    "0. Return all records as an array to the Driver.\n",
    "0. Assign your array of Washingtons (the return value of your action) to the variable `washingtons`.\n",
    "0. Calculate the sum of requests for the Washingtons and assign it to the variable `totalWashingtons`. <br/>\n",
    "<img alt=\"Hint\" title=\"Hint\" style=\"vertical-align: text-bottom; position: relative; height:1.75em; top:0.3em\" src=\"https://files.training.databricks.com/static/images/icon-light-bulb.svg\"/>&nbsp;**Hint:** We've not yet covered `DataFrame` aggregation techniques, so for this exercise use the array of records you have just obtained.\n",
    "\n",
    "** Bonus **\n",
    "\n",
    "Repeat the exercise for the Marthas\n",
    "0. Filter the result to the **en** Wikipedia project.\n",
    "0. Find all the articles where the name of the article **starts** with **Martha_** (presumably \"Martha Washington\", \"Martha Graham\", etc)\n",
    "0. Return all records as an array to the Driver.\n",
    "0. Assign your array of Marthas (the return value of your action) to the variable `marthas`.\n",
    "0. Calculate the sum of requests for the Marthas and assign it to the variable `totalMarthas`.<br/>\n",
    "<img alt=\"Hint\" title=\"Hint\" style=\"vertical-align: text-bottom; position: relative; height:1.75em; top:0.3em\" src=\"https://files.training.databricks.com/static/images/icon-light-bulb.svg\"/>&nbsp;**Hint:** We've not yet covered `DataFrame` aggregation techniques, so for this exercise use the array of records you have just obtained.\n",
    "0. But you cannot do it the same way twice:\n",
    "   * In the filter, don't use the same conditional method as the one used for the Washingtons.\n",
    "   * Don't use the same action as used for the Washingtons.\n",
    "\n",
    "**Testing**\n",
    "\n",
    "Run the last cell to verify that your results are correct.\n",
    "\n",
    "**Hints**\n",
    "* <img alt=\"Caution\" title=\"Caution\" style=\"vertical-align: text-bottom; position: relative; height:1.3em; top:0.0em\" src=\"https://files.training.databricks.com/static/images/icon-warning.svg\"/> Make sure to include the underscore in the condition.\n",
    "* The actions we've explored for extracting data include:\n",
    "  * `first()`\n",
    "  * `collect()`\n",
    "  * `head()`\n",
    "  * `take(n)`\n",
    "* The conditional methods used with a `filter(..)` include:\n",
    "  * equals\n",
    "  * not-equals\n",
    "  * starts-with\n",
    "  * and there are others - remember, the `DataFrames` API is built upon an SQL engine.\n",
    "* There shouldn't be more than 1000 records for either the Washingtons or the Marthas"
   ]
  },
  {
   "cell_type": "markdown",
   "metadata": {
    "application/vnd.databricks.v1+cell": {
     "cellMetadata": {},
     "inputWidgets": {},
     "nuid": "b717bd36-ff14-4617-b10a-7240b30b5b1c",
     "showTitle": false,
     "title": ""
    }
   },
   "source": [
    "##![Spark Logo Tiny](https://files.training.databricks.com/images/105/logo_spark_tiny.png) Getting Started\n",
    "\n",
    "Run the following cell to configure our \"classroom.\""
   ]
  },
  {
   "cell_type": "code",
   "execution_count": 0,
   "metadata": {
    "application/vnd.databricks.v1+cell": {
     "cellMetadata": {},
     "inputWidgets": {},
     "nuid": "861dd6c8-4734-4bc6-b0ac-ac5c2683de60",
     "showTitle": false,
     "title": ""
    }
   },
   "outputs": [
    {
     "output_type": "display_data",
     "data": {
      "text/html": [
       "<style scoped>\n",
       "  .ansiout {\n",
       "    display: block;\n",
       "    unicode-bidi: embed;\n",
       "    white-space: pre-wrap;\n",
       "    word-wrap: break-word;\n",
       "    word-break: break-all;\n",
       "    font-family: \"Source Code Pro\", \"Menlo\", monospace;;\n",
       "    font-size: 13px;\n",
       "    color: #555;\n",
       "    margin-left: 4px;\n",
       "    line-height: 19px;\n",
       "  }\n",
       "</style>"
      ]
     },
     "metadata": {
      "application/vnd.databricks.v1+output": {
       "arguments": {},
       "data": "",
       "errorSummary": "",
       "errorTraceType": null,
       "metadata": {},
       "type": "ipynbError"
      }
     },
     "output_type": "display_data"
    }
   ],
   "source": [
    "%run \"./Includes/Classroom-Setup\""
   ]
  },
  {
   "cell_type": "markdown",
   "metadata": {
    "application/vnd.databricks.v1+cell": {
     "cellMetadata": {},
     "inputWidgets": {},
     "nuid": "e118fc00-195f-4c9b-9747-41d9fb469620",
     "showTitle": false,
     "title": ""
    }
   },
   "source": [
    "##![Spark Logo Tiny](https://files.training.databricks.com/images/wiki-book/general/logo_spark_tiny.png) Show Your Work"
   ]
  },
  {
   "cell_type": "code",
   "execution_count": 0,
   "metadata": {
    "application/vnd.databricks.v1+cell": {
     "cellMetadata": {
      "byteLimit": 2048000,
      "rowLimit": 10000
     },
     "inputWidgets": {},
     "nuid": "fbcfa084-db26-46ce-ab57-fcefdcf56958",
     "showTitle": false,
     "title": ""
    }
   },
   "outputs": [],
   "source": [
    "#(source, sasEntity, sasToken) = getAzureDataSource()\n",
    "#spark.conf.set(sasEntity, sasToken)\n",
    "\n",
    "parquetDir = \"wasbs://spark-ui-simulator@dbacademy.blob.core.windows.net\" + \"/wikipedia/pagecounts/staging_parquet_en_only_clean/\""
   ]
  },
  {
   "cell_type": "code",
   "execution_count": 0,
   "metadata": {
    "application/vnd.databricks.v1+cell": {
     "cellMetadata": {
      "byteLimit": 2048000,
      "rowLimit": 10000
     },
     "inputWidgets": {},
     "nuid": "e3467a0b-c1bb-48b4-b627-e87650088493",
     "showTitle": false,
     "title": ""
    }
   },
   "outputs": [
    {
     "output_type": "stream",
     "name": "stdout",
     "output_type": "stream",
     "text": [
      "Total Washingtons: 466\nTotal Washington Requests: 3,266\n"
     ]
    }
   ],
   "source": [
    "# TODO\n",
    "\n",
    "# Replace FILL_IN with your code. You will probably need multiple\n",
    "# lines of code for this problem.\n",
    "\n",
    "from pyspark.sql.functions import *\n",
    "washingtons = (spark.read\n",
    "  .parquet(parquetDir)\n",
    "  .filter( col(\"project\") == \"en\")\n",
    "  .filter( col(\"article\").endswith(\"_Washington\") )\n",
    "  #.filter( col(\"article\").like(\"%\\\\_Washington\") )\n",
    "  .collect()\n",
    "  #.take(1000)\n",
    ")\n",
    "\n",
    "totalWashingtons = 0\n",
    "\n",
    "for washington in washingtons:\n",
    "  totalWashingtons += washington[\"requests\"]\n",
    "  \n",
    "print(\"Total Washingtons: {0:,}\".format( len(washingtons) ))\n",
    "print(\"Total Washington Requests: {0:,}\".format( totalWashingtons ))"
   ]
  },
  {
   "cell_type": "code",
   "execution_count": 0,
   "metadata": {
    "application/vnd.databricks.v1+cell": {
     "cellMetadata": {
      "byteLimit": 2048000,
      "rowLimit": 10000
     },
     "inputWidgets": {},
     "nuid": "65ee351a-7931-4423-849b-191bf0227f90",
     "showTitle": false,
     "title": ""
    }
   },
   "outputs": [
    {
     "output_type": "stream",
     "name": "stdout",
     "output_type": "stream",
     "text": [
      "Total Marthas: 146\nTotal Martha Requests: 708\n"
     ]
    }
   ],
   "source": [
    "# TODO\n",
    "\n",
    "# Replace FILL_IN with your code. You will probably need multiple\n",
    "# lines of code for this problem.\n",
    "\n",
    "marthas = (spark.read\n",
    "  .parquet(parquetDir)\n",
    "  .filter( col(\"project\") == \"en\")\n",
    "  #.filter( col(\"article\").startswith(\"Martha_\") )\n",
    "  .filter( col(\"article\").like(\"Martha\\\\_%\") )\n",
    "  #.collect()\n",
    "  .take(1000)\n",
    ")\n",
    "\n",
    "totalMarthas = 0\n",
    "\n",
    "for martha in marthas:\n",
    "  totalMarthas += martha[\"requests\"]\n",
    "\n",
    "print(\"Total Marthas: {0:,}\".format( len(marthas) ))\n",
    "print(\"Total Martha Requests: {0:,}\".format( totalMarthas ))"
   ]
  },
  {
   "cell_type": "markdown",
   "metadata": {
    "application/vnd.databricks.v1+cell": {
     "cellMetadata": {},
     "inputWidgets": {},
     "nuid": "1cf1230f-b8ac-4b37-8cac-4a8b25653a8b",
     "showTitle": false,
     "title": ""
    }
   },
   "source": [
    "##![Spark Logo Tiny](https://files.training.databricks.com/images/wiki-book/general/logo_spark_tiny.png) Verify Your Work\n",
    "Run the following cell to verify that your `DataFrame` was created properly."
   ]
  },
  {
   "cell_type": "code",
   "execution_count": 0,
   "metadata": {
    "application/vnd.databricks.v1+cell": {
     "cellMetadata": {
      "byteLimit": 2048000,
      "rowLimit": 10000
     },
     "inputWidgets": {},
     "nuid": "41c07dd3-62bc-464e-8757-2e1800031447",
     "showTitle": false,
     "title": ""
    }
   },
   "outputs": [
    {
     "output_type": "stream",
     "name": "stdout",
     "output_type": "stream",
     "text": [
      "Total Washingtons: 466\nTotal Washington Requests: 3,266\n"
     ]
    }
   ],
   "source": [
    "print(\"Total Washingtons: {0:,}\".format( len(washingtons) ))\n",
    "print(\"Total Washington Requests: {0:,}\".format( totalWashingtons ))\n",
    "\n",
    "expectedCount = 466\n",
    "assert len(washingtons) == expectedCount, \"Expected \" + str(expectedCount) + \" articles but found \" + str( len(washingtons) )\n",
    "\n",
    "expectedTotal = 3266\n",
    "assert totalWashingtons == expectedTotal, \"Expected \" + str(expectedTotal) + \" requests but found \" + str(totalWashingtons)"
   ]
  },
  {
   "cell_type": "code",
   "execution_count": 0,
   "metadata": {
    "application/vnd.databricks.v1+cell": {
     "cellMetadata": {
      "byteLimit": 2048000,
      "rowLimit": 10000
     },
     "inputWidgets": {},
     "nuid": "4353ae53-7c85-40f1-8273-fa18b6019d0d",
     "showTitle": false,
     "title": ""
    }
   },
   "outputs": [
    {
     "output_type": "stream",
     "name": "stdout",
     "output_type": "stream",
     "text": [
      "Total Marthas: 146\nTotal Marthas Requests: 708\n"
     ]
    }
   ],
   "source": [
    "print(\"Total Marthas: {0:,}\".format( len(marthas) ))\n",
    "print(\"Total Marthas Requests: {0:,}\".format( totalMarthas ))\n",
    "\n",
    "expectedCount = 146\n",
    "assert len(marthas) == expectedCount, \"Expected \" + str(expectedCount) + \" articles but found \" + str( len(marthas) )\n",
    "\n",
    "expectedTotal = 708\n",
    "assert totalMarthas == expectedTotal, \"Expected \" + str(expectedTotal) + \" requests but found \" + str(totalMarthas)\n"
   ]
  },
  {
   "cell_type": "code",
   "execution_count": 0,
   "metadata": {
    "application/vnd.databricks.v1+cell": {
     "cellMetadata": {},
     "inputWidgets": {},
     "nuid": "9496b0db-9fd8-43a3-b155-603812c2fc49",
     "showTitle": false,
     "title": ""
    }
   },
   "outputs": [],
   "source": []
  }
 ],
 "metadata": {
  "application/vnd.databricks.v1+notebook": {
   "dashboards": [],
   "language": "python",
   "notebookMetadata": {
    "pythonIndentUnit": 2
   },
   "notebookName": "3.Exercise-Washingtons-and-Marthas",
   "widgets": {}
  }
 },
 "nbformat": 4,
 "nbformat_minor": 0
}
